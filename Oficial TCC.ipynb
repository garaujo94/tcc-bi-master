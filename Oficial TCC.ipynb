{
 "cells": [
  {
   "cell_type": "markdown",
   "metadata": {
    "id": "y-S7XzXRVRVN"
   },
   "source": [
    "\n",
    "# Projeto Nadir\n",
    "Desenvolvimento do Projeto de Conclusão de Curso da Pós-Graduação BI-Master da PUC-Rio lecionada pelo Laboratório ICA que será chamado de projeto Nadir.<br><br>\n",
    "O objetivo a ser atingido é:\n",
    "\n",
    "\n",
    "*   Criar uma Rede Neural capaz de classificar imagens de constelações\n",
    "\n",
    "Por se tratar de uma Prova de Conceito, será abordado apenas 4 constelações:\n",
    "1. Órion\n",
    "2. Cruzeiro do Sul\n",
    "3. Cão Maior\n",
    "4. Ursa Menor\n",
    "\n",
    "\n",
    "\n",
    "\n",
    "\n"
   ]
  },
  {
   "cell_type": "code",
   "execution_count": null,
   "metadata": {
    "id": "WmsMax4wVOYF"
   },
   "outputs": [],
   "source": [
    "import numpy as np\n",
    "import pandas as pd\n",
    "import matplotlib.pyplot as plt\n",
    "import seaborn as sns\n",
    "import cv2\n",
    "import os\n",
    "import imutils\n",
    "from imutils import paths\n",
    "from keras.models import Sequential, Model, Input\n",
    "from keras.layers import Dense, Flatten, Dropout, Activation, Conv2D, MaxPooling2D, AveragePooling2D\n",
    "from keras.preprocessing.image import ImageDataGenerator, img_to_array, array_to_img\n",
    "from keras.applications import VGG16\n",
    "from keras.applications.vgg16 import preprocess_input,decode_predictions\n",
    "from keras.optimizers import Adam, SGD\n",
    "from keras.utils import np_utils\n",
    "from keras.callbacks import ReduceLROnPlateau, ModelCheckpoint, EarlyStopping\n",
    "from sklearn.preprocessing import LabelBinarizer, OneHotEncoder\n",
    "from sklearn.model_selection import train_test_split\n",
    "from sklearn.metrics import classification_report\n",
    "from sklearn.metrics import confusion_matrix"
   ]
  },
  {
   "cell_type": "code",
   "execution_count": null,
   "metadata": {
    "colab": {
     "base_uri": "https://localhost:8080/"
    },
    "executionInfo": {
     "elapsed": 2085,
     "status": "ok",
     "timestamp": 1610579524815,
     "user": {
      "displayName": "Gustavo Araujo",
      "photoUrl": "https://lh3.googleusercontent.com/a-/AOh14Gh4bOVkhtwUJJLI1ZuOLEHQb8pvOTkpvPnL7ghQRQ=s64",
      "userId": "02421319822055429397"
     },
     "user_tz": 180
    },
    "id": "RMKzboxOYSBf",
    "outputId": "e16bf9ee-bd52-434e-a536-fe604b4fbc27"
   },
   "outputs": [],
   "source": [
    "from google.colab import drive\n",
    "drive.mount('/content/drive')\n",
    "\n",
    "workdir_path = '/content/drive/My Drive/Colab Notebooks/TCC' #MODIFICAR!!! #Caminho para o seu workspace\n",
    "os.chdir(workdir_path)"
   ]
  },
  {
   "cell_type": "markdown",
   "metadata": {
    "id": "KLRiuga4u8d_"
   },
   "source": [
    "## Definição de Funções de Apoio para o desenvolvimento do projeto"
   ]
  },
  {
   "cell_type": "code",
   "execution_count": null,
   "metadata": {
    "id": "y_W_sLDFk-Km"
   },
   "outputs": [],
   "source": [
    "dicionario = {\n",
    "    0: 'canis major',\n",
    "    1: 'crux',\n",
    "    2: 'orion',\n",
    "    3: 'ursa minor'\n",
    "}"
   ]
  },
  {
   "cell_type": "code",
   "execution_count": null,
   "metadata": {
    "id": "1MmAVPW1fA4g"
   },
   "outputs": [],
   "source": [
    "#Testa 1 imagem já lida e pré-processada\n",
    "def testImage(model, image, label_real, dicionario = dicionario):\n",
    "    plt.imshow(image)\n",
    "    plt.title(dicionario[np.argmax(label_real)])\n",
    "    plt.xlabel(\"Prediction: \" + (dicionario[np.argmax(model.predict(image.reshape(-1,224,224,3)))]))\n",
    "    plt.show()"
   ]
  },
  {
   "cell_type": "code",
   "execution_count": null,
   "metadata": {
    "id": "NNqq-XyIhiVJ"
   },
   "outputs": [],
   "source": [
    "#Testa um conjunto de 8 imagens simultaneamente\n",
    "def gridImage8(model, image, label_real, inicio = 0, dicionario = dicionario):\n",
    "  plt.figure(figsize=(25,10))\n",
    "  for i in range(8):\n",
    "    a = 240 + i + 1\n",
    "    plt.subplot(int(a))\n",
    "    plt.imshow(image[i + inicio])\n",
    "    plt.title(dicionario[np.argmax(label_real[i + inicio])])\n",
    "    plt.xlabel(\"Prediction: \" + (dicionario[np.argmax(model.predict(image[i + inicio].reshape(-1,224,224,3)))]))\n",
    "\n",
    "  plt.show()"
   ]
  },
  {
   "cell_type": "code",
   "execution_count": null,
   "metadata": {
    "id": "5HbY6zMcCpmk"
   },
   "outputs": [],
   "source": [
    "def matrix(labels, prediction):\n",
    "\n",
    "  y = [np.argmax(ans) for ans in labels]\n",
    "  pred = [np.argmax(ans) for ans in prediction]\n",
    "\n",
    "  print(classification_report(y, pred))\n",
    "  print('--------------------------------------')\n",
    "  plt.figure(figsize=(5,5))\n",
    "  plt.title('Matriz de Confusão')\n",
    "  sns.heatmap(confusion_matrix(y, pred), annot=True, cbar=False, square=True)\n",
    "  plt.savefig('confusion_matrix.png')\n",
    "  plt.show()"
   ]
  },
  {
   "cell_type": "markdown",
   "metadata": {
    "id": "yU50wfqKvTEk"
   },
   "source": [
    "# Lendo os Dados"
   ]
  },
  {
   "cell_type": "code",
   "execution_count": null,
   "metadata": {
    "id": "yVbIAlQRZTUn"
   },
   "outputs": [],
   "source": [
    "all = '/content/drive/My Drive/Colab Notebooks/TCC/dataset/all/'"
   ]
  },
  {
   "cell_type": "markdown",
   "metadata": {
    "id": "btHZwTGMvMe6"
   },
   "source": [
    "Lendo as labels existentes e registrando"
   ]
  },
  {
   "cell_type": "code",
   "execution_count": null,
   "metadata": {
    "id": "wWPgbjkKb_kQ"
   },
   "outputs": [],
   "source": [
    "labels = os.listdir(all)"
   ]
  },
  {
   "cell_type": "code",
   "execution_count": null,
   "metadata": {
    "colab": {
     "base_uri": "https://localhost:8080/",
     "height": 35
    },
    "executionInfo": {
     "elapsed": 616,
     "status": "ok",
     "timestamp": 1610579529415,
     "user": {
      "displayName": "Gustavo Araujo",
      "photoUrl": "https://lh3.googleusercontent.com/a-/AOh14Gh4bOVkhtwUJJLI1ZuOLEHQb8pvOTkpvPnL7ghQRQ=s64",
      "userId": "02421319822055429397"
     },
     "user_tz": 180
    },
    "id": "cDeRdR3LcBeb",
    "outputId": "3d5705db-9edf-42ae-ae26-fcd182a563a7"
   },
   "outputs": [],
   "source": [
    "#Teste de código\n",
    "labels[0]"
   ]
  },
  {
   "cell_type": "markdown",
   "metadata": {
    "id": "SbsCJfiKvQ5X"
   },
   "source": [
    "Lendo os dados e armazenando em variáveis"
   ]
  },
  {
   "cell_type": "code",
   "execution_count": null,
   "metadata": {
    "id": "_QBwJ0UyckyG"
   },
   "outputs": [],
   "source": [
    "#Lendo os dados\n",
    "X = []\n",
    "y = []\n",
    "for label in labels:\n",
    "\n",
    "  caminhos = list(paths.list_images(all +  label))\n",
    "\n",
    "  for caminho in caminhos:\n",
    "    image = cv2.imread(caminho)\n",
    "    image = cv2.cvtColor(image, cv2.COLOR_BGR2RGB)\n",
    "    image = cv2.resize(image, (224, 224))\n",
    "\n",
    "    y.append(label)\n",
    "    X.append(image)"
   ]
  },
  {
   "cell_type": "markdown",
   "metadata": {
    "id": "0NEGXMfIvVmy"
   },
   "source": [
    "Convertantendo para os formatos necessários"
   ]
  },
  {
   "cell_type": "code",
   "execution_count": null,
   "metadata": {
    "id": "9vV_UvJvh_T6"
   },
   "outputs": [],
   "source": [
    "X, y = np.array(X)/255.0, np.array(y)"
   ]
  },
  {
   "cell_type": "code",
   "execution_count": null,
   "metadata": {
    "colab": {
     "base_uri": "https://localhost:8080/",
     "height": 630
    },
    "executionInfo": {
     "elapsed": 1869,
     "status": "ok",
     "timestamp": 1610579537584,
     "user": {
      "displayName": "Gustavo Araujo",
      "photoUrl": "https://lh3.googleusercontent.com/a-/AOh14Gh4bOVkhtwUJJLI1ZuOLEHQb8pvOTkpvPnL7ghQRQ=s64",
      "userId": "02421319822055429397"
     },
     "user_tz": 180
    },
    "id": "HmUn5YM9eeCa",
    "outputId": "e39da204-e634-4c29-d65a-e521e6a2afd4"
   },
   "outputs": [],
   "source": [
    "#Checando se está tudo certo\n",
    "print(y[0])\n",
    "plt.figure(figsize=(10,10))\n",
    "plt.imshow(X[0]);\n",
    "print('--------------------------')"
   ]
  },
  {
   "cell_type": "code",
   "execution_count": null,
   "metadata": {
    "colab": {
     "base_uri": "https://localhost:8080/",
     "height": 630
    },
    "executionInfo": {
     "elapsed": 1690,
     "status": "ok",
     "timestamp": 1610579539149,
     "user": {
      "displayName": "Gustavo Araujo",
      "photoUrl": "https://lh3.googleusercontent.com/a-/AOh14Gh4bOVkhtwUJJLI1ZuOLEHQb8pvOTkpvPnL7ghQRQ=s64",
      "userId": "02421319822055429397"
     },
     "user_tz": 180
    },
    "id": "_ANb28l5f8yk",
    "outputId": "26479503-0907-4c42-9ddf-dc0af570284e"
   },
   "outputs": [],
   "source": [
    "print(y[5])\n",
    "plt.figure(figsize=(10,10))\n",
    "plt.imshow(X[5]);\n",
    "print('--------------------------')"
   ]
  },
  {
   "cell_type": "markdown",
   "metadata": {
    "id": "CIQFBNvXvbUs"
   },
   "source": [
    "# Data Augmentation"
   ]
  },
  {
   "cell_type": "markdown",
   "metadata": {
    "id": "Hjn5YaJxvaWI"
   },
   "source": [
    "Devido ao baixo número de imagens obtidas para o treinamento e teste da Rede Neural, se faz necessário gerar novas imagens sintéticas a partir das imagens originais obtidas"
   ]
  },
  {
   "cell_type": "markdown",
   "metadata": {
    "id": "jXd9uZSVyBM1"
   },
   "source": [
    "Montando o gerador de imagens:"
   ]
  },
  {
   "cell_type": "code",
   "execution_count": null,
   "metadata": {
    "id": "0bvpsKoGf9vr"
   },
   "outputs": [],
   "source": [
    "#Data Augmentation\n",
    "DataGen = ImageDataGenerator(\n",
    " rotation_range=30, zoom_range=0.3, width_shift_range=0.3, height_shift_range = 0.3,featurewise_center=True,\n",
    "    featurewise_std_normalization=True, horizontal_flip=True\n",
    ")"
   ]
  },
  {
   "cell_type": "code",
   "execution_count": null,
   "metadata": {
    "id": "DL3U491ahrdK"
   },
   "outputs": [],
   "source": [
    "batch_size = 16\n",
    "\n",
    "data_generator = DataGen.flow(X, np.array(pd.get_dummies(y)), \n",
    "                                     batch_size=batch_size, \n",
    "                                     shuffle=True)"
   ]
  },
  {
   "cell_type": "markdown",
   "metadata": {
    "id": "cImj4x6uyE-a"
   },
   "source": [
    "Teste do gerador de imagens:"
   ]
  },
  {
   "cell_type": "code",
   "execution_count": null,
   "metadata": {
    "colab": {
     "base_uri": "https://localhost:8080/"
    },
    "executionInfo": {
     "elapsed": 43103,
     "status": "ok",
     "timestamp": 1610578386400,
     "user": {
      "displayName": "Gustavo Araujo",
      "photoUrl": "https://lh3.googleusercontent.com/a-/AOh14Gh4bOVkhtwUJJLI1ZuOLEHQb8pvOTkpvPnL7ghQRQ=s64",
      "userId": "02421319822055429397"
     },
     "user_tz": 180
    },
    "id": "a-HAiZIqfm-P",
    "outputId": "bd994255-5670-446c-865c-99e6b4235e28"
   },
   "outputs": [],
   "source": [
    "x_, y_ = data_generator.__next__()"
   ]
  },
  {
   "cell_type": "code",
   "execution_count": null,
   "metadata": {
    "colab": {
     "base_uri": "https://localhost:8080/",
     "height": 197
    },
    "executionInfo": {
     "elapsed": 43094,
     "status": "ok",
     "timestamp": 1610578386401,
     "user": {
      "displayName": "Gustavo Araujo",
      "photoUrl": "https://lh3.googleusercontent.com/a-/AOh14Gh4bOVkhtwUJJLI1ZuOLEHQb8pvOTkpvPnL7ghQRQ=s64",
      "userId": "02421319822055429397"
     },
     "user_tz": 180
    },
    "id": "RXOdzrKvh79I",
    "outputId": "78e1409a-61d0-4716-98ba-942a8228f97b"
   },
   "outputs": [],
   "source": [
    "pd.get_dummies(y).head()"
   ]
  },
  {
   "cell_type": "code",
   "execution_count": null,
   "metadata": {
    "colab": {
     "base_uri": "https://localhost:8080/"
    },
    "executionInfo": {
     "elapsed": 43085,
     "status": "ok",
     "timestamp": 1610578386402,
     "user": {
      "displayName": "Gustavo Araujo",
      "photoUrl": "https://lh3.googleusercontent.com/a-/AOh14Gh4bOVkhtwUJJLI1ZuOLEHQb8pvOTkpvPnL7ghQRQ=s64",
      "userId": "02421319822055429397"
     },
     "user_tz": 180
    },
    "id": "uCARJ5Y3ZCnv",
    "outputId": "e40b8957-69e4-46a1-9736-dfc5fe39fd8b"
   },
   "outputs": [],
   "source": [
    "y_[0]"
   ]
  },
  {
   "cell_type": "code",
   "execution_count": null,
   "metadata": {
    "colab": {
     "base_uri": "https://localhost:8080/",
     "height": 268
    },
    "executionInfo": {
     "elapsed": 43078,
     "status": "ok",
     "timestamp": 1610578386404,
     "user": {
      "displayName": "Gustavo Araujo",
      "photoUrl": "https://lh3.googleusercontent.com/a-/AOh14Gh4bOVkhtwUJJLI1ZuOLEHQb8pvOTkpvPnL7ghQRQ=s64",
      "userId": "02421319822055429397"
     },
     "user_tz": 180
    },
    "id": "xIYXMN3ZYkKP",
    "outputId": "2bf24582-4803-467f-aac2-b7845eac2667"
   },
   "outputs": [],
   "source": [
    "plt.imshow(x_[0]);"
   ]
  },
  {
   "cell_type": "markdown",
   "metadata": {
    "id": "ZDHy03ItyHaB"
   },
   "source": [
    "Gerando imagens novas:"
   ]
  },
  {
   "cell_type": "code",
   "execution_count": null,
   "metadata": {
    "colab": {
     "base_uri": "https://localhost:8080/"
    },
    "executionInfo": {
     "elapsed": 10742,
     "status": "ok",
     "timestamp": 1610579582581,
     "user": {
      "displayName": "Gustavo Araujo",
      "photoUrl": "https://lh3.googleusercontent.com/a-/AOh14Gh4bOVkhtwUJJLI1ZuOLEHQb8pvOTkpvPnL7ghQRQ=s64",
      "userId": "02421319822055429397"
     },
     "user_tz": 180
    },
    "id": "Zjgex7uDVYya",
    "outputId": "9a537dc7-b2b6-4e7f-a87d-c9662c209e1f"
   },
   "outputs": [],
   "source": [
    "train_steps_per_epoch = X.shape[0]//batch_size + 1\n",
    "\n",
    "increase_by=40\n",
    "steps_per_epoch = train_steps_per_epoch*increase_by\n",
    "train_features=[]\n",
    "train_labels=[]\n",
    "for i in range(steps_per_epoch):\n",
    "    print(\"\\rTraining Batches: {}/{}\\n\".format(i+1,steps_per_epoch), end=\"\")\n",
    "    x_,y_ = data_generator.__next__()\n",
    "    train_features.append(x_)\n",
    "    train_labels.append(y_)\n",
    "    \n",
    "\n",
    "\n",
    "train_features = np.concatenate(train_features,axis=0)\n",
    "train_labels = np.concatenate(train_labels,axis=0)\n",
    "\n",
    "\n",
    "print('\\nCreation of vectors image finished!')"
   ]
  },
  {
   "cell_type": "code",
   "execution_count": null,
   "metadata": {
    "colab": {
     "base_uri": "https://localhost:8080/"
    },
    "executionInfo": {
     "elapsed": 677,
     "status": "ok",
     "timestamp": 1610579587513,
     "user": {
      "displayName": "Gustavo Araujo",
      "photoUrl": "https://lh3.googleusercontent.com/a-/AOh14Gh4bOVkhtwUJJLI1ZuOLEHQb8pvOTkpvPnL7ghQRQ=s64",
      "userId": "02421319822055429397"
     },
     "user_tz": 180
    },
    "id": "OJcPAGW4VY7K",
    "outputId": "616188b5-b5cf-4d4e-8a0b-965cd37a7b60"
   },
   "outputs": [],
   "source": [
    "print(f'Quantidade de imagens geradas a serem usadas é: {train_labels.shape[0]}')"
   ]
  },
  {
   "cell_type": "code",
   "execution_count": null,
   "metadata": {
    "id": "soKZ6fDOifGG"
   },
   "outputs": [],
   "source": [
    "X_train, X_test, y_train, y_test = train_test_split(train_features, train_labels, train_size = 0.8, stratify = train_labels, random_state = 42)"
   ]
  },
  {
   "cell_type": "markdown",
   "metadata": {
    "id": "hJw8RlX8vifY"
   },
   "source": [
    "# Montando o Modelo"
   ]
  },
  {
   "cell_type": "markdown",
   "metadata": {
    "id": "N5fPS0yvvmmg"
   },
   "source": [
    "Será usado Transfer Learning usando de base a rede VGG16"
   ]
  },
  {
   "cell_type": "code",
   "execution_count": null,
   "metadata": {
    "colab": {
     "base_uri": "https://localhost:8080/"
    },
    "executionInfo": {
     "elapsed": 1625,
     "status": "ok",
     "timestamp": 1610579594190,
     "user": {
      "displayName": "Gustavo Araujo",
      "photoUrl": "https://lh3.googleusercontent.com/a-/AOh14Gh4bOVkhtwUJJLI1ZuOLEHQb8pvOTkpvPnL7ghQRQ=s64",
      "userId": "02421319822055429397"
     },
     "user_tz": 180
    },
    "id": "qVeD479o-drE",
    "outputId": "7d898f2b-99b9-4777-be2e-fb4a58dd60bb"
   },
   "outputs": [],
   "source": [
    "model_vgg = VGG16(include_top=False, weights='imagenet', input_shape=(224, 224, 3))\n",
    "model_vgg.summary()"
   ]
  },
  {
   "cell_type": "code",
   "execution_count": null,
   "metadata": {
    "id": "RAm4dWCgcPqv"
   },
   "outputs": [],
   "source": [
    "INIT_LR = 1e-3\n",
    "EPOCHS = 1000\n",
    "BS = 32"
   ]
  },
  {
   "cell_type": "code",
   "execution_count": null,
   "metadata": {
    "id": "jKj8P742bF9L"
   },
   "outputs": [],
   "source": [
    "headmodel = model_vgg.output\n",
    "headmodel = Flatten(name=\"flatten\")(headmodel)\n",
    "headmodel = Dense(128, activation='relu')(headmodel)\n",
    "headmodel = Dropout(0.5)(headmodel)\n",
    "headmodel = Dense(64, activation='relu')(headmodel)\n",
    "headmodel = Dropout(0.5)(headmodel)\n",
    "headmodel = Dense(4, activation='softmax')(headmodel)\n",
    "\n",
    "model = Model(inputs = model_vgg.input, outputs = headmodel, name='Nadir')\n",
    "\n",
    "for layer in model_vgg.layers:\n",
    "  layer.trainable = False\n",
    "\n",
    "opt = SGD(learning_rate=INIT_LR, decay=INIT_LR/EPOCHS)\n",
    "\n",
    "model.compile(loss = \"categorical_crossentropy\", optimizer = opt, metrics=['accuracy'])"
   ]
  },
  {
   "cell_type": "code",
   "execution_count": null,
   "metadata": {
    "colab": {
     "base_uri": "https://localhost:8080/"
    },
    "executionInfo": {
     "elapsed": 587,
     "status": "ok",
     "timestamp": 1610579606579,
     "user": {
      "displayName": "Gustavo Araujo",
      "photoUrl": "https://lh3.googleusercontent.com/a-/AOh14Gh4bOVkhtwUJJLI1ZuOLEHQb8pvOTkpvPnL7ghQRQ=s64",
      "userId": "02421319822055429397"
     },
     "user_tz": 180
    },
    "id": "6BeSjJPJiuyo",
    "outputId": "a41a732d-dde3-40d9-ecf9-e5bd4744b779"
   },
   "outputs": [],
   "source": [
    "model.summary()"
   ]
  },
  {
   "cell_type": "code",
   "execution_count": null,
   "metadata": {
    "id": "CNm71UvdmfYW"
   },
   "outputs": [],
   "source": [
    "callbacks = [\n",
    "    ReduceLROnPlateau(patience=20, factor=0.5, verbose=True),\n",
    "    ModelCheckpoint('best.model', save_best_only=True),\n",
    "    EarlyStopping(patience=40, verbose=True)\n",
    "]\n"
   ]
  },
  {
   "cell_type": "code",
   "execution_count": null,
   "metadata": {
    "id": "G9nn9cxM8gY0"
   },
   "outputs": [],
   "source": [
    "X_train, X_val, y_train, y_val = train_test_split(X_train, y_train, stratify = y_train, test_size = 0.2)"
   ]
  },
  {
   "cell_type": "code",
   "execution_count": null,
   "metadata": {
    "colab": {
     "base_uri": "https://localhost:8080/"
    },
    "executionInfo": {
     "elapsed": 2804195,
     "status": "ok",
     "timestamp": 1610582417379,
     "user": {
      "displayName": "Gustavo Araujo",
      "photoUrl": "https://lh3.googleusercontent.com/a-/AOh14Gh4bOVkhtwUJJLI1ZuOLEHQb8pvOTkpvPnL7ghQRQ=s64",
      "userId": "02421319822055429397"
     },
     "user_tz": 180
    },
    "id": "7lpb5EdpXO-P",
    "outputId": "7e079811-d787-4563-d92d-c101d51f9be5"
   },
   "outputs": [],
   "source": [
    "h = model.fit(\n",
    "    X_train, y_train,\n",
    "    batch_size = BS,\n",
    "    validation_data = (X_val, y_val), \n",
    "    epochs = EPOCHS,\n",
    "    callbacks = callbacks\n",
    ")"
   ]
  },
  {
   "cell_type": "markdown",
   "metadata": {
    "id": "_fAQaqNLvu1q"
   },
   "source": [
    "# Avaliação do modelo"
   ]
  },
  {
   "cell_type": "code",
   "execution_count": null,
   "metadata": {
    "colab": {
     "base_uri": "https://localhost:8080/",
     "height": 562
    },
    "executionInfo": {
     "elapsed": 1621,
     "status": "ok",
     "timestamp": 1610582486663,
     "user": {
      "displayName": "Gustavo Araujo",
      "photoUrl": "https://lh3.googleusercontent.com/a-/AOh14Gh4bOVkhtwUJJLI1ZuOLEHQb8pvOTkpvPnL7ghQRQ=s64",
      "userId": "02421319822055429397"
     },
     "user_tz": 180
    },
    "id": "xs3PoA-1ixV8",
    "outputId": "86608aa6-700b-40d6-a85a-98fa59c099cf"
   },
   "outputs": [],
   "source": [
    "df_history = pd.DataFrame(h.history)\n",
    "\n",
    "fig = plt.figure();\n",
    "ax = df_history[['val_loss', 'loss']].plot(figsize=(20, 10));\n",
    "df_history['lr'].plot(ax=ax.twinx(), color='gray');\n",
    "plt.savefig('loss_val_loss_lr.png')"
   ]
  },
  {
   "cell_type": "code",
   "execution_count": null,
   "metadata": {
    "colab": {
     "base_uri": "https://localhost:8080/",
     "height": 581
    },
    "executionInfo": {
     "elapsed": 1648,
     "status": "ok",
     "timestamp": 1610582494074,
     "user": {
      "displayName": "Gustavo Araujo",
      "photoUrl": "https://lh3.googleusercontent.com/a-/AOh14Gh4bOVkhtwUJJLI1ZuOLEHQb8pvOTkpvPnL7ghQRQ=s64",
      "userId": "02421319822055429397"
     },
     "user_tz": 180
    },
    "id": "v_TfXTg1jBC-",
    "outputId": "552bee38-a606-4ceb-bf97-8657e83872c0"
   },
   "outputs": [],
   "source": [
    "fig = plt.figure();\n",
    "ax = df_history[['val_accuracy', 'accuracy']].plot(figsize=(20, 10));\n",
    "plt.savefig('accuracy_val_accuracy.png')"
   ]
  },
  {
   "cell_type": "code",
   "execution_count": null,
   "metadata": {
    "colab": {
     "base_uri": "https://localhost:8080/",
     "height": 197
    },
    "executionInfo": {
     "elapsed": 723,
     "status": "ok",
     "timestamp": 1610582509970,
     "user": {
      "displayName": "Gustavo Araujo",
      "photoUrl": "https://lh3.googleusercontent.com/a-/AOh14Gh4bOVkhtwUJJLI1ZuOLEHQb8pvOTkpvPnL7ghQRQ=s64",
      "userId": "02421319822055429397"
     },
     "user_tz": 180
    },
    "id": "kHDS2X7_jZLW",
    "outputId": "e1f8fe8c-ddff-4e39-bba9-c0d4cbaa2202"
   },
   "outputs": [],
   "source": [
    "df_history.tail()"
   ]
  },
  {
   "cell_type": "code",
   "execution_count": null,
   "metadata": {
    "colab": {
     "base_uri": "https://localhost:8080/",
     "height": 496
    },
    "executionInfo": {
     "elapsed": 3733,
     "status": "ok",
     "timestamp": 1610582529395,
     "user": {
      "displayName": "Gustavo Araujo",
      "photoUrl": "https://lh3.googleusercontent.com/a-/AOh14Gh4bOVkhtwUJJLI1ZuOLEHQb8pvOTkpvPnL7ghQRQ=s64",
      "userId": "02421319822055429397"
     },
     "user_tz": 180
    },
    "id": "682tLnExiYgg",
    "outputId": "eefad9c9-cffe-486d-d084-0b2d2ffb55a5"
   },
   "outputs": [],
   "source": [
    "gridImage8(\n",
    "    model,\n",
    "    X_test,\n",
    "    y_test,\n",
    "    inicio = 10\n",
    ")"
   ]
  },
  {
   "cell_type": "code",
   "execution_count": null,
   "metadata": {
    "colab": {
     "base_uri": "https://localhost:8080/",
     "height": 294
    },
    "executionInfo": {
     "elapsed": 985,
     "status": "ok",
     "timestamp": 1610582555791,
     "user": {
      "displayName": "Gustavo Araujo",
      "photoUrl": "https://lh3.googleusercontent.com/a-/AOh14Gh4bOVkhtwUJJLI1ZuOLEHQb8pvOTkpvPnL7ghQRQ=s64",
      "userId": "02421319822055429397"
     },
     "user_tz": 180
    },
    "id": "FbfvbXGjfA2A",
    "outputId": "2536f686-6569-4f92-cfcc-ac11fdee847f"
   },
   "outputs": [],
   "source": [
    "testImage(\n",
    "    model,\n",
    "    X_test[0],\n",
    "    y_test[0]\n",
    ")"
   ]
  },
  {
   "cell_type": "code",
   "execution_count": null,
   "metadata": {
    "colab": {
     "base_uri": "https://localhost:8080/",
     "height": 294
    },
    "executionInfo": {
     "elapsed": 1031,
     "status": "ok",
     "timestamp": 1610582567474,
     "user": {
      "displayName": "Gustavo Araujo",
      "photoUrl": "https://lh3.googleusercontent.com/a-/AOh14Gh4bOVkhtwUJJLI1ZuOLEHQb8pvOTkpvPnL7ghQRQ=s64",
      "userId": "02421319822055429397"
     },
     "user_tz": 180
    },
    "id": "soEyd9vuhAoI",
    "outputId": "e984746a-62fb-4f21-e96e-4df3e16cbd62"
   },
   "outputs": [],
   "source": [
    "testImage(\n",
    "    model,\n",
    "    X_test[1],\n",
    "    y_test[1]\n",
    ")"
   ]
  },
  {
   "cell_type": "code",
   "execution_count": null,
   "metadata": {
    "id": "JiW-r9DK__Aj"
   },
   "outputs": [],
   "source": [
    "pred = model.predict(X_test)"
   ]
  },
  {
   "cell_type": "code",
   "execution_count": null,
   "metadata": {
    "colab": {
     "base_uri": "https://localhost:8080/",
     "height": 548
    },
    "executionInfo": {
     "elapsed": 682,
     "status": "ok",
     "timestamp": 1610582817317,
     "user": {
      "displayName": "Gustavo Araujo",
      "photoUrl": "https://lh3.googleusercontent.com/a-/AOh14Gh4bOVkhtwUJJLI1ZuOLEHQb8pvOTkpvPnL7ghQRQ=s64",
      "userId": "02421319822055429397"
     },
     "user_tz": 180
    },
    "id": "_Wa77osTDNJl",
    "outputId": "7a65eef0-981e-49d2-9005-a251e04afed4"
   },
   "outputs": [],
   "source": [
    "matrix(y_test, pred)"
   ]
  },
  {
   "cell_type": "code",
   "execution_count": null,
   "metadata": {
    "id": "8se4bf938GTN"
   },
   "outputs": [],
   "source": [
    "df_history.to_csv('df_history.csv')"
   ]
  },
  {
   "cell_type": "code",
   "execution_count": null,
   "metadata": {
    "id": "xuQs0a-zNms4"
   },
   "outputs": [],
   "source": [
    "model.save('oficial_nadir_model.h5')"
   ]
  }
 ],
 "metadata": {
  "accelerator": "GPU",
  "colab": {
   "authorship_tag": "ABX9TyMLjeNlbC+KV8S6U79CEeBT",
   "collapsed_sections": [],
   "name": "Oficial TCC.ipynb",
   "provenance": [],
   "toc_visible": true
  },
  "kernelspec": {
   "display_name": "Python 3",
   "language": "python",
   "name": "python3"
  },
  "language_info": {
   "codemirror_mode": {
    "name": "ipython",
    "version": 3
   },
   "file_extension": ".py",
   "mimetype": "text/x-python",
   "name": "python",
   "nbconvert_exporter": "python",
   "pygments_lexer": "ipython3",
   "version": "3.8.5"
  }
 },
 "nbformat": 4,
 "nbformat_minor": 4
}
